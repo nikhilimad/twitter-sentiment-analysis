{
 "cells": [
  {
   "cell_type": "code",
   "execution_count": 46,
   "metadata": {},
   "outputs": [],
   "source": [
    "import nltk"
   ]
  },
  {
   "cell_type": "code",
   "execution_count": 47,
   "metadata": {},
   "outputs": [],
   "source": [
    "#nltk.download('twitter_samples')"
   ]
  },
  {
   "cell_type": "code",
   "execution_count": 48,
   "metadata": {},
   "outputs": [],
   "source": [
    "from nltk.corpus import twitter_samples"
   ]
  },
  {
   "cell_type": "code",
   "execution_count": 49,
   "metadata": {},
   "outputs": [],
   "source": [
    "positive_tweets = twitter_samples.strings('positive_tweets.json')\n",
    "negative_tweets = twitter_samples.strings('negative_tweets.json')\n",
    "text = twitter_samples.strings('tweets.20150430-223406.json')"
   ]
  },
  {
   "cell_type": "code",
   "execution_count": 50,
   "metadata": {},
   "outputs": [],
   "source": [
    "#print(positive_tweets)"
   ]
  },
  {
   "cell_type": "code",
   "execution_count": 51,
   "metadata": {},
   "outputs": [],
   "source": [
    "#nltk.download('punkt')"
   ]
  },
  {
   "cell_type": "code",
   "execution_count": 52,
   "metadata": {},
   "outputs": [],
   "source": [
    "tweet_tokens = twitter_samples.tokenized('positive_tweets.json')"
   ]
  },
  {
   "cell_type": "code",
   "execution_count": 53,
   "metadata": {},
   "outputs": [
    {
     "name": "stdout",
     "output_type": "stream",
     "text": [
      "['#FollowFriday', '@France_Inte', '@PKuchly57', '@Milipol_Paris', 'for', 'being', 'top', 'engaged', 'members', 'in', 'my', 'community', 'this', 'week', ':)']\n"
     ]
    }
   ],
   "source": [
    "print(tweet_tokens[0])"
   ]
  },
  {
   "cell_type": "code",
   "execution_count": 54,
   "metadata": {},
   "outputs": [],
   "source": [
    "#nltk.download('wordnet') "
   ]
  },
  {
   "cell_type": "code",
   "execution_count": 55,
   "metadata": {},
   "outputs": [],
   "source": [
    "#nltk.download('averaged_perceptron_tagger')"
   ]
  },
  {
   "cell_type": "code",
   "execution_count": 56,
   "metadata": {},
   "outputs": [],
   "source": [
    "import re, string\n",
    "from nltk.tag import pos_tag\n",
    "from nltk.stem.wordnet import WordNetLemmatizer\n",
    "from nltk.tokenize import word_tokenize\n",
    "\n",
    "def remove_noise(tweet_tokens, stop_words = ()):\n",
    "\n",
    "    cleaned_tokens = []\n",
    "\n",
    "    for token, tag in pos_tag(tweet_tokens):\n",
    "       # token = re.sub('http[s]?://(?:[a-zA-Z]|[0-9]|[$-_@.&+#]|[!*\\(\\),]|'\\\n",
    "       #               '(?:%[0-9a-fA-F][0-9a-fA-F]))+','', token)\n",
    "       # token = re.sub(\"(@[A-Za-z0-9_]+)\",\"\", token)\n",
    "        token = re.sub('((www\\.[^\\s]+)|(https?://[^\\s]+))', '', token) # remove URLs\n",
    "        token = re.sub('@[^\\s]+', '', token) # remove usernames\n",
    "        token = re.sub(r'#([^\\s]+)',r'', token) # remove the # in #hashtag\n",
    "\n",
    "        if tag.startswith(\"NN\"):\n",
    "            pos = 'n'\n",
    "        elif tag.startswith('VB'):\n",
    "            pos = 'v'\n",
    "        else:\n",
    "            pos = 'a'\n",
    "\n",
    "        lemmatizer = WordNetLemmatizer()\n",
    "        token = lemmatizer.lemmatize(token, pos)\n",
    "\n",
    "        if len(token) > 0 and token not in string.punctuation and token.lower() not in stop_words:\n",
    "            cleaned_tokens.append(token.lower())\n",
    "    return cleaned_tokens"
   ]
  },
  {
   "cell_type": "code",
   "execution_count": 57,
   "metadata": {},
   "outputs": [],
   "source": [
    "#nltk.download('stopwords')"
   ]
  },
  {
   "cell_type": "code",
   "execution_count": 58,
   "metadata": {},
   "outputs": [
    {
     "name": "stdout",
     "output_type": "stream",
     "text": [
      "['top', 'engage', 'member', 'community', 'week', ':)']\n"
     ]
    }
   ],
   "source": [
    "from nltk.corpus import stopwords\n",
    "stop_words = stopwords.words('english')\n",
    "\n",
    "print(remove_noise(tweet_tokens[0], stop_words))"
   ]
  },
  {
   "cell_type": "code",
   "execution_count": 59,
   "metadata": {},
   "outputs": [],
   "source": [
    "positive_tweet_tokens = twitter_samples.tokenized('positive_tweets.json')\n",
    "negative_tweet_tokens = twitter_samples.tokenized('negative_tweets.json')\n",
    "\n",
    "positive_cleaned_tokens_list = []\n",
    "negative_cleaned_tokens_list = []\n",
    "\n",
    "for tokens in positive_tweet_tokens:\n",
    "    positive_cleaned_tokens_list.append(remove_noise(tokens, stop_words))\n",
    "\n",
    "for tokens in negative_tweet_tokens:\n",
    "    negative_cleaned_tokens_list.append(remove_noise(tokens, stop_words))"
   ]
  },
  {
   "cell_type": "code",
   "execution_count": 60,
   "metadata": {},
   "outputs": [
    {
     "name": "stdout",
     "output_type": "stream",
     "text": [
      "['Dang', 'that', 'is', 'some', 'rad', '@AbzuGame', '#fanart', '!', ':D', 'https://t.co/bI8k8tb9ht']\n",
      "['dang', 'rad', ':d']\n"
     ]
    }
   ],
   "source": [
    "print(positive_tweet_tokens[500])\n",
    "print(positive_cleaned_tokens_list[500])"
   ]
  },
  {
   "cell_type": "code",
   "execution_count": 61,
   "metadata": {},
   "outputs": [],
   "source": [
    "def get_all_words(cleaned_tokens_list):\n",
    "    for tokens in cleaned_tokens_list:\n",
    "        for token in tokens:\n",
    "            yield token\n",
    "\n",
    "all_pos_words = get_all_words(positive_cleaned_tokens_list)"
   ]
  },
  {
   "cell_type": "code",
   "execution_count": 62,
   "metadata": {},
   "outputs": [
    {
     "name": "stdout",
     "output_type": "stream",
     "text": [
      "[(':)', 3691), (':-)', 701), (':d', 658), ('thanks', 388), ('follow', 357), ('love', 333), ('...', 290), ('good', 283), ('get', 263), ('thank', 253), ('u', 245), ('day', 242), ('like', 229), ('see', 195), ('happy', 192), (\"i'm\", 183), ('great', 175), ('hi', 173), ('go', 167), ('back', 163), ('know', 161), ('new', 147), ('make', 145), (':p', 139), ('<3', 135), ('one', 131), ('..', 129), ('time', 125), ('hope', 123), ('us', 115), ('look', 114), ('today', 112), ('work', 109), ('friday', 100), ('nice', 99), ('please', 98), ('morning', 98), ('want', 96), (\"i'll\", 91), ('much', 89), ('think', 87), ('lot', 85), ('via', 85), ('would', 84), ('week', 83), ('well', 81), ('let', 81), ('really', 79), ('hey', 77), ('enjoy', 77)]\n"
     ]
    }
   ],
   "source": [
    "from nltk import FreqDist\n",
    "\n",
    "freq_dist_pos = FreqDist(all_pos_words)\n",
    "print(freq_dist_pos.most_common(50))"
   ]
  },
  {
   "cell_type": "code",
   "execution_count": 63,
   "metadata": {},
   "outputs": [],
   "source": [
    "def get_tweets_for_model(cleaned_tokens_list):\n",
    "    for tweet_tokens in cleaned_tokens_list:\n",
    "        yield dict([token, True] for token in tweet_tokens)\n",
    "\n",
    "positive_tokens_for_model = get_tweets_for_model(positive_cleaned_tokens_list)\n",
    "negative_tokens_for_model = get_tweets_for_model(negative_cleaned_tokens_list)"
   ]
  },
  {
   "cell_type": "code",
   "execution_count": 64,
   "metadata": {},
   "outputs": [],
   "source": [
    "import random\n",
    "\n",
    "positive_dataset = [(tweet_dict, \"Positive\")\n",
    "                     for tweet_dict in positive_tokens_for_model]\n",
    "\n",
    "negative_dataset = [(tweet_dict, \"Negative\")\n",
    "                     for tweet_dict in negative_tokens_for_model]\n",
    "\n",
    "dataset = positive_dataset + negative_dataset\n",
    "\n",
    "random.shuffle(dataset)\n",
    "\n",
    "train_data = dataset[:7000]\n",
    "test_data = dataset[7000:]"
   ]
  },
  {
   "cell_type": "code",
   "execution_count": 65,
   "metadata": {},
   "outputs": [
    {
     "name": "stdout",
     "output_type": "stream",
     "text": [
      "Accuracy is: 0.9963333333333333\n",
      "Most Informative Features\n",
      "                      :( = True           Negati : Positi =   2052.2 : 1.0\n",
      "                      :) = True           Positi : Negati =    989.4 : 1.0\n",
      "                     sad = True           Negati : Positi =     35.2 : 1.0\n",
      "                    glad = True           Positi : Negati =     23.8 : 1.0\n",
      "                followed = True           Negati : Positi =     23.5 : 1.0\n",
      "                     bam = True           Positi : Negati =     21.8 : 1.0\n",
      "                follower = True           Positi : Negati =     19.5 : 1.0\n",
      "               community = True           Positi : Negati =     16.4 : 1.0\n",
      "                     x15 = True           Negati : Positi =     15.6 : 1.0\n",
      "                 welcome = True           Positi : Negati =     15.4 : 1.0\n",
      "None\n"
     ]
    }
   ],
   "source": [
    "from nltk import classify\n",
    "from nltk import NaiveBayesClassifier\n",
    "classifier = NaiveBayesClassifier.train(train_data)\n",
    "\n",
    "print(\"Accuracy is:\", classify.accuracy(classifier, test_data))\n",
    "\n",
    "print(classifier.show_most_informative_features(10))"
   ]
  },
  {
   "cell_type": "code",
   "execution_count": 66,
   "metadata": {},
   "outputs": [
    {
     "name": "stdout",
     "output_type": "stream",
     "text": [
      "Accuracy is: 0.9956666666666667\n"
     ]
    }
   ],
   "source": [
    "from nltk import classify\n",
    "from sklearn.svm import LinearSVC\n",
    "\n",
    "classifier2 = nltk.classify.SklearnClassifier(LinearSVC())\n",
    "classifier2.train(train_data)\n",
    "\n",
    "\n",
    "print(\"Accuracy is:\", classify.accuracy(classifier2, test_data))\n",
    "\n",
    "#print(classifier2.show_most_informative_features(10))"
   ]
  },
  {
   "cell_type": "code",
   "execution_count": 67,
   "metadata": {},
   "outputs": [
    {
     "name": "stdout",
     "output_type": "stream",
     "text": [
      "Negative\n"
     ]
    }
   ],
   "source": [
    "custom_tweet = \"Sun sets in east\"\n",
    "\n",
    "custom_tokens = remove_noise(custom_tweet)\n",
    "\n",
    "print(classifier.classify(dict([token, True] for token in custom_tokens)))"
   ]
  },
  {
   "cell_type": "code",
   "execution_count": 79,
   "metadata": {},
   "outputs": [],
   "source": [
    "# Methos 1:using getoldTweets3 library to fetch real time tweets\n",
    "\n",
    "import GetOldTweets3 as got"
   ]
  },
  {
   "cell_type": "code",
   "execution_count": 80,
   "metadata": {},
   "outputs": [],
   "source": [
    "def get_tweets():\n",
    "    tweetCriteria = got.manager.TweetCriteria().setQuerySearch('coronavirus')\\\n",
    "                                               .setSince(\"2020-06-01\")\\\n",
    "                                               .setUntil(\"2020-06-26\")\\\n",
    "                                               .setLang('en')\\\n",
    "                                               .setMaxTweets(100)\n",
    "    tweets = got.manager.TweetManager.getTweets(tweetCriteria)\n",
    "    text_tweets=[[tweet.text] for tweet in tweets]\n",
    "    return text_tweets"
   ]
  },
  {
   "cell_type": "code",
   "execution_count": 81,
   "metadata": {},
   "outputs": [
    {
     "name": "stdout",
     "output_type": "stream",
     "text": [
      "Positive\n",
      "Negative\n",
      "Negative\n",
      "Positive\n",
      "Positive\n",
      "Negative\n",
      "Positive\n",
      "Positive\n",
      "Positive\n",
      "Positive\n",
      "Negative\n",
      "Negative\n",
      "Positive\n",
      "Negative\n",
      "Negative\n",
      "Positive\n",
      "Negative\n",
      "Positive\n",
      "Negative\n",
      "Positive\n",
      "Negative\n",
      "Positive\n",
      "Positive\n",
      "Negative\n",
      "Positive\n",
      "Positive\n",
      "Negative\n",
      "Negative\n",
      "Negative\n",
      "Negative\n",
      "Positive\n",
      "Positive\n",
      "Positive\n",
      "Positive\n",
      "Negative\n",
      "Positive\n",
      "Negative\n",
      "Negative\n",
      "Negative\n",
      "Negative\n",
      "Negative\n",
      "Negative\n",
      "Negative\n",
      "Negative\n",
      "Negative\n",
      "Negative\n",
      "Negative\n",
      "Negative\n",
      "Negative\n",
      "Negative\n",
      "Negative\n",
      "Negative\n",
      "Negative\n",
      "Negative\n",
      "Positive\n",
      "Negative\n",
      "Positive\n",
      "Negative\n",
      "Positive\n",
      "Negative\n",
      "Negative\n",
      "Negative\n",
      "Negative\n",
      "Negative\n",
      "Positive\n",
      "Positive\n",
      "Negative\n",
      "Negative\n",
      "Negative\n",
      "Positive\n",
      "Positive\n",
      "Negative\n",
      "Positive\n",
      "Negative\n",
      "Negative\n",
      "Negative\n",
      "Negative\n",
      "Negative\n",
      "Positive\n",
      "Positive\n",
      "Positive\n",
      "Positive\n",
      "Positive\n",
      "Positive\n",
      "Positive\n",
      "Positive\n",
      "Positive\n",
      "Negative\n",
      "Negative\n",
      "Positive\n",
      "Positive\n",
      "Negative\n",
      "Negative\n",
      "Positive\n",
      "Positive\n",
      "Negative\n",
      "Negative\n",
      "Positive\n",
      "Negative\n",
      "Negative\n"
     ]
    }
   ],
   "source": [
    "text=\"\"\n",
    "text_tweets= get_tweets()\n",
    "length=len(text_tweets)\n",
    "NBResultLabels = []\n",
    "\n",
    "for i in range(0,length):\n",
    "    #text=text_tweets[i][0] + \" \" +text\n",
    "    text=text_tweets[i][0]\n",
    "    custom_tokens = remove_noise(word_tokenize(text))\n",
    "    NBResultLabels.append(classifier.classify(dict([token, True] for token in custom_tokens)))\n",
    "    print(classifier.classify(dict([token, True] for token in custom_tokens)))\n",
    "  "
   ]
  },
  {
   "cell_type": "code",
   "execution_count": 82,
   "metadata": {},
   "outputs": [
    {
     "name": "stdout",
     "output_type": "stream",
     "text": [
      "Overall Negative Sentiment\n",
      "Negative Sentiment Percentage = 58.0%\n"
     ]
    }
   ],
   "source": [
    "# get the majority vote\n",
    "if NBResultLabels.count('Positive') > NBResultLabels.count('Negative'):\n",
    "    print(\"Overall Positive Sentiment\")\n",
    "    print(\"Positive Sentiment Percentage = \" + str(100*NBResultLabels.count('Positive')/len(NBResultLabels)) + \"%\")\n",
    "else: \n",
    "    print(\"Overall Negative Sentiment\")\n",
    "    print(\"Negative Sentiment Percentage = \" + str(100*NBResultLabels.count('Negative')/len(NBResultLabels)) + \"%\")\n"
   ]
  },
  {
   "cell_type": "code",
   "execution_count": 85,
   "metadata": {},
   "outputs": [],
   "source": [
    "#Methos 2: twitter official API code\n",
    "\n",
    "import twitter"
   ]
  },
  {
   "cell_type": "code",
   "execution_count": 86,
   "metadata": {},
   "outputs": [
    {
     "name": "stdout",
     "output_type": "stream",
     "text": [
      "{\"created_at\": \"Mon Apr 10 18:39:54 +0000 2017\", \"default_profile\": true, \"default_profile_image\": true, \"friends_count\": 3, \"id\": 851505032365129729, \"id_str\": \"851505032365129729\", \"name\": \"nikhil agarwal\", \"profile_background_color\": \"F5F8FA\", \"profile_image_url\": \"http://abs.twimg.com/sticky/default_profile_images/default_profile_normal.png\", \"profile_image_url_https\": \"https://abs.twimg.com/sticky/default_profile_images/default_profile_normal.png\", \"profile_link_color\": \"1DA1F2\", \"profile_sidebar_border_color\": \"C0DEED\", \"profile_sidebar_fill_color\": \"DDEEF6\", \"profile_text_color\": \"333333\", \"profile_use_background_image\": true, \"screen_name\": \"ambivert_guy\"}\n"
     ]
    }
   ],
   "source": [
    "\n",
    "# initialize api instance\n",
    "twitter_api = twitter.Api(consumer_key='PbUZzsHqlify8uzjKGEvy3Oq4',\n",
    "                        consumer_secret='Sh4LPOgZ2ZdAjwqrheEm0XDfh2w7s3Q8V2Kd1kOmPrNUavcUHy',\n",
    "                        access_token_key='851505032365129729-cjunYHJyw9WShAyyK8FvSUkCqU8e3vs',\n",
    "                        access_token_secret='yweuRyjxZ2erirpDjc3z1bYaOJ37X8fG1Fn7U8kJ6kAlx')\n",
    "\n",
    "# test authentication\n",
    "print(twitter_api.VerifyCredentials())"
   ]
  },
  {
   "cell_type": "code",
   "execution_count": 87,
   "metadata": {},
   "outputs": [],
   "source": [
    "def buildTestSet(search_keyword):\n",
    "    try:\n",
    "        tweets_fetched = twitter_api.GetSearch(search_keyword, count = 100, lang='en')\n",
    "        \n",
    "        print(\"Fetched \" + str(len(tweets_fetched)) + \" tweets for the term \" + search_keyword)\n",
    "        \n",
    "        return [[status.text] for status in tweets_fetched]\n",
    "    except:\n",
    "        print(\"Unfortunately, something went wrong..\")\n",
    "        return None"
   ]
  },
  {
   "cell_type": "code",
   "execution_count": 88,
   "metadata": {},
   "outputs": [
    {
     "name": "stdout",
     "output_type": "stream",
     "text": [
      "Enter a search keyword:coronavirus\n",
      "Fetched 100 tweets for the term coronavirus\n",
      "[['I will repeat this until it is understood.\\n\\nShutting down our country again &amp; again until the coronavirus disappear… https://t.co/OIGGGotyCg'], ['I’m running for Congress against Adam Schiff in November. \\n\\nWhile the coronavirus was spreading, Schiff was focused… https://t.co/K6GAhWGk2Z'], [\"The current occupant of the WH wants to talk about schools and threats.  Instead, here is today's reminder that DON… https://t.co/SaIEFsoTBe\"], ['RT @funder: BREAKING: The number of Americans dying of coronavirus started to rise again. Trump has failed us all.']]\n"
     ]
    }
   ],
   "source": [
    "search_term = input(\"Enter a search keyword:\")\n",
    "testDataSet = buildTestSet(search_term)\n",
    "\n",
    "print(testDataSet[0:4])"
   ]
  },
  {
   "cell_type": "code",
   "execution_count": 89,
   "metadata": {},
   "outputs": [
    {
     "name": "stdout",
     "output_type": "stream",
     "text": [
      "Positive\n",
      "Positive\n",
      "Negative\n",
      "Negative\n",
      "Positive\n",
      "Negative\n",
      "Positive\n",
      "Positive\n",
      "Positive\n",
      "Positive\n",
      "Negative\n",
      "Negative\n",
      "Negative\n",
      "Negative\n",
      "Negative\n",
      "Positive\n",
      "Positive\n",
      "Negative\n",
      "Negative\n",
      "Negative\n",
      "Positive\n",
      "Positive\n",
      "Negative\n",
      "Negative\n",
      "Negative\n",
      "Negative\n",
      "Positive\n",
      "Negative\n",
      "Positive\n",
      "Positive\n",
      "Positive\n",
      "Positive\n",
      "Negative\n",
      "Negative\n",
      "Positive\n",
      "Positive\n",
      "Positive\n",
      "Positive\n",
      "Negative\n",
      "Positive\n",
      "Negative\n",
      "Positive\n",
      "Positive\n",
      "Positive\n",
      "Positive\n",
      "Positive\n",
      "Negative\n",
      "Negative\n",
      "Positive\n",
      "Negative\n",
      "Negative\n",
      "Positive\n",
      "Positive\n",
      "Positive\n",
      "Positive\n",
      "Negative\n",
      "Negative\n",
      "Positive\n",
      "Positive\n",
      "Positive\n",
      "Negative\n",
      "Positive\n",
      "Positive\n",
      "Negative\n",
      "Positive\n",
      "Positive\n",
      "Positive\n",
      "Negative\n",
      "Positive\n",
      "Positive\n",
      "Positive\n",
      "Negative\n",
      "Positive\n",
      "Negative\n",
      "Negative\n",
      "Positive\n",
      "Positive\n",
      "Negative\n",
      "Negative\n",
      "Negative\n",
      "Negative\n",
      "Positive\n",
      "Negative\n",
      "Positive\n",
      "Positive\n",
      "Positive\n",
      "Negative\n",
      "Negative\n",
      "Negative\n",
      "Negative\n",
      "Negative\n",
      "Negative\n",
      "Negative\n",
      "Positive\n",
      "Positive\n",
      "Negative\n",
      "Positive\n",
      "Negative\n",
      "Positive\n",
      "Positive\n"
     ]
    }
   ],
   "source": [
    "text=\"\"\n",
    "length=len(testDataSet)\n",
    "NBResultLabels = []\n",
    "\n",
    "for i in range(0,length):\n",
    "    ALL_text=text_tweets[i][0] + \" \" +text\n",
    "    text=testDataSet[i][0]\n",
    "    custom_tokens = remove_noise(word_tokenize(text))\n",
    "    NBResultLabels.append(classifier.classify(dict([token, True] for token in custom_tokens)))\n",
    "    print(classifier.classify(dict([token, True] for token in custom_tokens)))\n",
    "  "
   ]
  },
  {
   "cell_type": "code",
   "execution_count": 90,
   "metadata": {},
   "outputs": [
    {
     "name": "stdout",
     "output_type": "stream",
     "text": [
      "Overall Positive Sentiment\n",
      "Positive Sentiment Percentage = 54.0%\n"
     ]
    }
   ],
   "source": [
    "# get the majority vote\n",
    "if NBResultLabels.count('Positive') > NBResultLabels.count('Negative'):\n",
    "    print(\"Overall Positive Sentiment\")\n",
    "    print(\"Positive Sentiment Percentage = \" + str(100*NBResultLabels.count('Positive')/len(NBResultLabels)) + \"%\")\n",
    "else: \n",
    "    print(\"Overall Negative Sentiment\")\n",
    "    print(\"Negative Sentiment Percentage = \" + str(100*NBResultLabels.count('Negative')/len(NBResultLabels)) + \"%\")\n"
   ]
  },
  {
   "cell_type": "code",
   "execution_count": 91,
   "metadata": {},
   "outputs": [
    {
     "data": {
      "image/png": "[encoded data removed]",
      "text/plain": [
       "<Figure size 432x288 with 1 Axes>"
      ]
     },
     "metadata": {
      "needs_background": "light"
     },
     "output_type": "display_data"
    }
   ],
   "source": [
    "from wordcloud import WordCloud\n",
    "import matplotlib.pyplot as plt \n",
    "\n",
    "wordcloud = WordCloud(max_font_size=50, max_words=100, background_color=\"white\").generate(ALL_text)\n",
    "plt.figure()\n",
    "plt.imshow(wordcloud, interpolation=\"bilinear\")\n",
    "plt.axis(\"off\")\n",
    "plt.show()"
   ]
  },
  {
   "cell_type": "code",
   "execution_count": null,
   "metadata": {},
   "outputs": [],
   "source": []
  },
  {
   "cell_type": "code",
   "execution_count": null,
   "metadata": {},
   "outputs": [],
   "source": []
  }
 ],
 "metadata": {
  "kernelspec": {
   "display_name": "Python 3",
   "language": "python",
   "name": "python3"
  },
  "language_info": {
   "codemirror_mode": {
    "name": "ipython",
    "version": 3
   },
   "file_extension": ".py",
   "mimetype": "text/x-python",
   "name": "python",
   "nbconvert_exporter": "python",
   "pygments_lexer": "ipython3",
   "version": "3.7.5"
  }
 },
 "nbformat": 4,
 "nbformat_minor": 4
}
